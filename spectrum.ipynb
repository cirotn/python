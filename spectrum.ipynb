{
 "cells": [
  {
   "cell_type": "code",
   "execution_count": null,
   "metadata": {},
   "outputs": [],
   "source": [
    "from scipy import signal\n",
    "import matplotlib.pyplot as plt\n",
    "import numpy as np\n",
    "import collections\n",
    "import math"
   ]
  },
  {
   "cell_type": "code",
   "execution_count": null,
   "metadata": {},
   "outputs": [],
   "source": [
    "sample_rate = 1e4\n",
    "duration = 0.04\n",
    "tone_freq = 2e3\n",
    "samples_to_plot = 100"
   ]
  },
  {
   "cell_type": "code",
   "execution_count": null,
   "metadata": {},
   "outputs": [],
   "source": [
    "class Waveform:\n",
    "    def __init__(self, t0, dt, y):\n",
    "        self.t0 = t0\n",
    "        self.dt = dt\n",
    "        self.y = y\n",
    "\n",
    "    def sample_times(self):\n",
    "        begin = self.t0\n",
    "        end = self.t0 + self.dt * len(self.y)\n",
    "        return np.arange(begin, end, self.dt)\n",
    "    \n",
    "    def __add__(self, other):\n",
    "        return Waveform(self.t0, self.dt, self.y + other.y)\n",
    "    \n",
    "class Spectrum:\n",
    "    def __init__(self, f0, df, y):\n",
    "        self.f0 = f0\n",
    "        self.df = df\n",
    "        self.y = y\n",
    "        \n",
    "    def frequency_bins(self):\n",
    "        begin = self.f0\n",
    "        end = self.f0 + self.df * len(self.y)\n",
    "        return np.arange(begin, end, self.df)"
   ]
  },
  {
   "cell_type": "code",
   "execution_count": null,
   "metadata": {},
   "outputs": [],
   "source": [
    "def create_single_tone(sample_rate, duration, tone_freq, t0=0):\n",
    "    dt = 1/sample_rate\n",
    "    t = np.arange(t0, t0+duration, dt)\n",
    "    tone = np.exp(1.0j*(2*np.pi*tone_freq*t))\n",
    "    return Waveform(t0, dt, tone)"
   ]
  },
  {
   "cell_type": "code",
   "execution_count": null,
   "metadata": {},
   "outputs": [],
   "source": [
    "# Check phase continuity\n",
    "tone = create_single_tone(1e3, 1, 2.5)\n",
    "plt.plot(tone.sample_times(), np.real(tone.y))\n",
    "tone = create_single_tone(1e3, 1, 2.5, 1)\n",
    "plt.plot(tone.sample_times(), np.real(tone.y))"
   ]
  },
  {
   "cell_type": "code",
   "execution_count": null,
   "metadata": {},
   "outputs": [],
   "source": [
    "tone = create_single_tone(sample_rate, duration, tone_freq)\n",
    "time_axis = tone.sample_times()\n",
    "plt.plot(time_axis[:samples_to_plot], np.real(tone.y)[:samples_to_plot])\n",
    "plt.plot(time_axis[:samples_to_plot], np.imag(tone.y)[:samples_to_plot])"
   ]
  },
  {
   "cell_type": "code",
   "execution_count": null,
   "metadata": {},
   "outputs": [],
   "source": [
    "def create_noise_signal(sample_rate, duration, amplitude, t0=0):\n",
    "    real = np.random.normal(0, amplitude, int(round(sample_rate*duration)))\n",
    "    cplx = np.random.normal(0, amplitude, int(round(sample_rate*duration)))\n",
    "    return Waveform(t0, 1.0/sample_rate, real + 1.0j*cplx)"
   ]
  },
  {
   "cell_type": "code",
   "execution_count": null,
   "metadata": {},
   "outputs": [],
   "source": [
    "noise = create_noise_signal(sample_rate, duration, 0.01)"
   ]
  },
  {
   "cell_type": "code",
   "execution_count": null,
   "metadata": {},
   "outputs": [],
   "source": [
    "plt.plot(time_axis[:samples_to_plot], np.real(noise.y)[:samples_to_plot])\n",
    "plt.plot(time_axis[:samples_to_plot], np.imag(noise.y)[:samples_to_plot])"
   ]
  },
  {
   "cell_type": "code",
   "execution_count": null,
   "metadata": {},
   "outputs": [],
   "source": [
    "wfm = tone + noise\n",
    "plt.plot(time_axis[:samples_to_plot], np.real(wfm.y)[:samples_to_plot])\n",
    "plt.plot(time_axis[:samples_to_plot], np.imag(wfm.y)[:samples_to_plot])"
   ]
  },
  {
   "cell_type": "code",
   "execution_count": null,
   "metadata": {},
   "outputs": [],
   "source": [
    "def windowed_fft(wfm, comp_for_demod_loss=True):\n",
    "    num_samps = len(wfm.y)\n",
    "    \n",
    "    # Apply window\n",
    "    window = np.hamming(num_samps)\n",
    "    y_windowed = np.multiply(window, wfm.y)\n",
    "    \n",
    "    # Calculate FFT and shift it so frequency bins are in order\n",
    "    fft = np.fft.fftshift(np.fft.fft(y_windowed, len(y_windowed)))\n",
    "\n",
    "    # Scale the fft by the number of elements and by the window. Also scale\n",
    "    # by sqrt(2) to compensate for loss of half of the signal energy when\n",
    "    # low-pass filtering during IQ demodulation.\n",
    "    window_coherent_gain = 0.54\n",
    "    scaling = 1.0 / (len(fft) * window_coherent_gain)\n",
    "    if comp_for_demod_loss:\n",
    "        scaling *= np.sqrt(2)\n",
    "    fft *= scaling\n",
    "    \n",
    "    # Calculate the bin information\n",
    "    df = (1.0/wfm.dt) / num_samps\n",
    "    f0 = -(num_samps / 2.0) * df\n",
    "    return Spectrum(f0, df, fft)\n",
    "\n",
    "def convert_spectrum_to_volts_squared(spectrum):\n",
    "    v_squared = np.real(spectrum.y)**2 + np.imag(spectrum.y)**2\n",
    "    return Spectrum(spectrum.f0, spectrum.df, v_squared)\n",
    "\n",
    "\n",
    "spectrum = windowed_fft(wfm)\n",
    "spectrum_volts_squared = convert_spectrum_to_volts_squared(spectrum)\n",
    "plt.plot(spectrum_volts_squared.frequency_bins(), spectrum_volts_squared.y)"
   ]
  },
  {
   "cell_type": "code",
   "execution_count": null,
   "metadata": {},
   "outputs": [],
   "source": [
    "def convert_spectrum_to_dbm(spectrum):\n",
    "    \"\"\"\n",
    "    Note: assumes 50 Ohms\n",
    "    \"\"\"\n",
    "    volts_squared = convert_spectrum_to_volts_squared(spectrum)\n",
    "    dbv = 10*np.log10(volts_squared.y)\n",
    "    dbm = dbv + 30 - 10*np.log10(50)\n",
    "    return Spectrum(spectrum.f0, spectrum.df, dbm)\n",
    "\n",
    "spectrum_dbm = convert_spectrum_to_dbm(spectrum)\n",
    "bins = spectrum_dbm.frequency_bins()\n",
    "plt.plot(bins, spectrum_dbm.y)\n",
    "peak_index, _ = signal.find_peaks(spectrum_dbm.y, height=-20)\n",
    "peak_freq = bins[peak_index]\n",
    "peak_ampl = spectrum_dbm.y[peak_index]\n",
    "print(\"Peak freq = {}, ampl = {}\".format(peak_freq, peak_ampl))\n",
    "plt.plot(peak_freq, peak_ampl, 'x')"
   ]
  },
  {
   "cell_type": "code",
   "execution_count": null,
   "metadata": {},
   "outputs": [],
   "source": [
    "def frequency_shift(wfm, shift):\n",
    "    tone = create_single_tone(1.0/wfm.dt, wfm.dt * len(wfm.y), shift)\n",
    "    y = wfm.y * tone.y\n",
    "    return Waveform(wfm.t0, wfm.dt, y)\n",
    "\n",
    "tone = create_single_tone(sample_rate, duration, tone_freq)\n",
    "noise = create_noise_signal(sample_rate, duration, 0.01)\n",
    "wfm = tone + noise\n",
    "shifted = frequency_shift(wfm, -1000)\n",
    "spectrum = windowed_fft(shifted)\n",
    "spectrum_dbm = convert_spectrum_to_dbm(spectrum)\n",
    "plt.plot(spectrum_dbm.frequency_bins(), spectrum_dbm.y)"
   ]
  },
  {
   "cell_type": "code",
   "execution_count": null,
   "metadata": {},
   "outputs": [],
   "source": [
    "def create_dual_tone(sample_rate, duration, tone_freq, t0=0):\n",
    "    dt = 1/sample_rate\n",
    "    t = np.arange(t0, t0+duration, dt)\n",
    "    tone = np.sin(2*np.pi*tone_freq*t)\n",
    "    return Waveform(t0, dt, tone)"
   ]
  },
  {
   "cell_type": "code",
   "execution_count": null,
   "metadata": {},
   "outputs": [],
   "source": [
    "tone = create_dual_tone(sample_rate, duration, tone_freq)\n",
    "noise = create_noise_signal(sample_rate, duration, 0.01)\n",
    "wfm = tone + noise\n",
    "spectrum = windowed_fft(wfm)\n",
    "spectrum_dbm = convert_spectrum_to_dbm(spectrum)\n",
    "plt.plot(spectrum_dbm.frequency_bins(), spectrum_dbm.y)"
   ]
  },
  {
   "cell_type": "code",
   "execution_count": null,
   "metadata": {},
   "outputs": [],
   "source": [
    "def decimate_wfm(wfm, decim):\n",
    "    new_y = signal.resample_poly(wfm.y, 1, decim)\n",
    "    return Waveform(wfm.t0, wfm.dt * decim, new_y)\n",
    "\n",
    "tone = create_dual_tone(sample_rate, duration, tone_freq)\n",
    "noise = create_noise_signal(sample_rate, duration, 0.01)\n",
    "wfm = tone + noise\n",
    "wfm = frequency_shift(wfm, tone_freq)\n",
    "wfm = decimate_wfm(wfm, 4)\n",
    "spectrum = windowed_fft(wfm)\n",
    "spectrum_dbm = convert_spectrum_to_dbm(spectrum)\n",
    "plt.plot(spectrum_dbm.frequency_bins(), spectrum_dbm.y)"
   ]
  },
  {
   "cell_type": "code",
   "execution_count": null,
   "metadata": {},
   "outputs": [],
   "source": [
    "def zoom_fft(wfm, center_freq, decim):\n",
    "    wfm = frequency_shift(wfm, -center_freq)\n",
    "    wfm = decimate_wfm(wfm, decim)\n",
    "    return windowed_fft(wfm)\n",
    "\n",
    "tone = create_dual_tone(sample_rate, duration, tone_freq)\n",
    "noise = create_noise_signal(sample_rate, duration, 0.01)\n",
    "wfm = tone + noise\n",
    "spectrum = zoom_fft(wfm, tone_freq+1e3, 2)\n",
    "spectrum_dbm = convert_spectrum_to_dbm(spectrum)\n",
    "plt.plot(spectrum_dbm.frequency_bins(), spectrum_dbm.y)"
   ]
  },
  {
   "cell_type": "code",
   "execution_count": null,
   "metadata": {},
   "outputs": [],
   "source": []
  }
 ],
 "metadata": {
  "kernelspec": {
   "display_name": "Python 3",
   "language": "python",
   "name": "python3"
  },
  "language_info": {
   "codemirror_mode": {
    "name": "ipython",
    "version": 3
   },
   "file_extension": ".py",
   "mimetype": "text/x-python",
   "name": "python",
   "nbconvert_exporter": "python",
   "pygments_lexer": "ipython3",
   "version": "3.8.1"
  }
 },
 "nbformat": 4,
 "nbformat_minor": 4
}
